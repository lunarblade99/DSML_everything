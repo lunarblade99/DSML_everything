{
 "cells": [
  {
   "cell_type": "code",
   "execution_count": 10,
   "id": "328397c7",
   "metadata": {},
   "outputs": [],
   "source": [
    "import requests\n",
    "from bs4 import BeautifulSoup\n",
    "import csv\n",
    "import pandas as pd\n",
    "import os"
   ]
  },
  {
   "cell_type": "code",
   "execution_count": 31,
   "id": "4f056c03",
   "metadata": {},
   "outputs": [],
   "source": [
    "URL = 'https://books.toscrape.com/'\n",
    "response = requests.get(URL)\n",
    "\n",
    "page_contents = response.text\n",
    "\n",
    "#Creating a file and loading the page contents in it.\n",
    "with open('Bookswebpage.html','w') as f:\n",
    "    f.write(page_contents)\n",
    "\n",
    "doc = BeautifulSoup(page_contents,'html.parser')"
   ]
  },
  {
   "cell_type": "code",
   "execution_count": 32,
   "id": "25c681c9",
   "metadata": {},
   "outputs": [],
   "source": [
    "def get_book_titles(doc):\n",
    "    Book_title_tags = doc.find_all('h3')\n",
    "    Book_titles = []\n",
    "    for tags in Book_title_tags:\n",
    "        Book_titles.append(tags.text)\n",
    "    return Book_titles"
   ]
  },
  {
   "cell_type": "code",
   "execution_count": 33,
   "id": "384d11b3",
   "metadata": {},
   "outputs": [],
   "source": [
    "def get_book_price(doc):\n",
    "    Book_price_tags = doc.find_all('p', class_ = 'price_color')\n",
    "    Book_price = []\n",
    "    for tags in Book_price_tags:\n",
    "        Book_price.append(tags.text.replace('Â',''))\n",
    "    return Book_price"
   ]
  },
  {
   "cell_type": "code",
   "execution_count": 34,
   "id": "fb671b92",
   "metadata": {},
   "outputs": [],
   "source": [
    "def get_stock_availability(doc):\n",
    "    Book_stock_tags = doc.find_all('p', class_ = 'instock availability')\n",
    "    Book_stock = []\n",
    "    for tags in Book_stock_tags:\n",
    "        Book_stock.append(tags.text.strip())\n",
    "    return Book_stock"
   ]
  },
  {
   "cell_type": "code",
   "execution_count": 35,
   "id": "23dcee3d",
   "metadata": {},
   "outputs": [],
   "source": [
    "def get_book_url(Book_title_tags):\n",
    "    Book_url = []\n",
    "    for article in Book_title_tags:\n",
    "        for link in article.find_all('a', href = True):\n",
    "            url = link['href']\n",
    "            links = 'https://books.toscrape.com/' + url\n",
    "            if links not in Book_url:\n",
    "                Book_url.append(links)\n",
    "    return Book_url"
   ]
  },
  {
   "cell_type": "code",
   "execution_count": 36,
   "id": "40a0abeb",
   "metadata": {},
   "outputs": [],
   "source": [
    "def get_doc(url):\n",
    "    response = requests.get(url)\n",
    "    doc = BeautifulSoup(response.text,'html.parser')\n",
    "    if response.status_code != 200:\n",
    "        raise Exception('Failed to load page {}'.format(response))\n",
    "    return doc"
   ]
  },
  {
   "cell_type": "code",
   "execution_count": 37,
   "id": "7008afc3",
   "metadata": {},
   "outputs": [],
   "source": [
    "def scrape_multiple_pages(n):\n",
    "    URL = 'https://books.toscrape.com/catalogue/page-'\n",
    "    titles,prices,stocks_availability,urls = [],[],[],[]\n",
    "    \n",
    "    for page in range(1,n+1):\n",
    "        doc = get_doc(URL + str(page)+ '.html')\n",
    "        titles.extend(get_book_titles(doc))\n",
    "        prices.extend(get_book_price(doc))\n",
    "        stocks_availability.extend(get_stock_availability(doc))\n",
    "        urls.extend(get_book_url(doc.find_all('h3')))\n",
    "        \n",
    "    book_dict1 = {\n",
    "                'TITLE':titles,\n",
    "                'PRICE':prices,\n",
    "                'STOCK AVAILABILTY':stocks_availability,\n",
    "                'URL':urls}\n",
    "    return pd.DataFrame(book_dict1)"
   ]
  },
  {
   "cell_type": "code",
   "execution_count": 38,
   "id": "debf9028",
   "metadata": {},
   "outputs": [],
   "source": [
    "scrape_multiple_pages(5).to_csv('SCB.csv',index = None)"
   ]
  },
  {
   "cell_type": "code",
   "execution_count": null,
   "id": "48182f68",
   "metadata": {},
   "outputs": [],
   "source": []
  }
 ],
 "metadata": {
  "kernelspec": {
   "display_name": "Python 3 (ipykernel)",
   "language": "python",
   "name": "python3"
  },
  "language_info": {
   "codemirror_mode": {
    "name": "ipython",
    "version": 3
   },
   "file_extension": ".py",
   "mimetype": "text/x-python",
   "name": "python",
   "nbconvert_exporter": "python",
   "pygments_lexer": "ipython3",
   "version": "3.9.12"
  }
 },
 "nbformat": 4,
 "nbformat_minor": 5
}
