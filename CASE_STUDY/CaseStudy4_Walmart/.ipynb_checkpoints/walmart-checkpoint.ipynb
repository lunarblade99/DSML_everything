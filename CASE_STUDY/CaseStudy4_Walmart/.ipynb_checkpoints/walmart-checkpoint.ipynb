{
 "cells": [
  {
   "cell_type": "code",
   "execution_count": 1,
   "id": "fc2fca03",
   "metadata": {},
   "outputs": [],
   "source": [
    "import numpy as np\n",
    "import pandas as pd\n",
    "import seaborn as sns\n",
    "import matplotlib.pyplot as plt\n",
    "from scipy.stats import binom\n",
    "from scipy.stats import norm\n",
    "from scipy.stats import poisson\n",
    "from scipy.stats import geom\n",
    "from scipy.stats import expon\n",
    "from scipy.stats import t"
   ]
  },
  {
   "cell_type": "code",
   "execution_count": 2,
   "id": "a687a733",
   "metadata": {},
   "outputs": [
    {
     "data": {
      "text/html": [
       "<div>\n",
       "<style scoped>\n",
       "    .dataframe tbody tr th:only-of-type {\n",
       "        vertical-align: middle;\n",
       "    }\n",
       "\n",
       "    .dataframe tbody tr th {\n",
       "        vertical-align: top;\n",
       "    }\n",
       "\n",
       "    .dataframe thead th {\n",
       "        text-align: right;\n",
       "    }\n",
       "</style>\n",
       "<table border=\"1\" class=\"dataframe\">\n",
       "  <thead>\n",
       "    <tr style=\"text-align: right;\">\n",
       "      <th></th>\n",
       "      <th>User_ID</th>\n",
       "      <th>Product_ID</th>\n",
       "      <th>Gender</th>\n",
       "      <th>Age</th>\n",
       "      <th>Occupation</th>\n",
       "      <th>City_Category</th>\n",
       "      <th>Stay_In_Current_City_Years</th>\n",
       "      <th>Marital_Status</th>\n",
       "      <th>Product_Category</th>\n",
       "      <th>Purchase</th>\n",
       "    </tr>\n",
       "  </thead>\n",
       "  <tbody>\n",
       "    <tr>\n",
       "      <th>0</th>\n",
       "      <td>1000001</td>\n",
       "      <td>P00069042</td>\n",
       "      <td>F</td>\n",
       "      <td>0-17</td>\n",
       "      <td>10</td>\n",
       "      <td>A</td>\n",
       "      <td>2</td>\n",
       "      <td>0</td>\n",
       "      <td>3</td>\n",
       "      <td>8370</td>\n",
       "    </tr>\n",
       "    <tr>\n",
       "      <th>1</th>\n",
       "      <td>1000001</td>\n",
       "      <td>P00248942</td>\n",
       "      <td>F</td>\n",
       "      <td>0-17</td>\n",
       "      <td>10</td>\n",
       "      <td>A</td>\n",
       "      <td>2</td>\n",
       "      <td>0</td>\n",
       "      <td>1</td>\n",
       "      <td>15200</td>\n",
       "    </tr>\n",
       "    <tr>\n",
       "      <th>2</th>\n",
       "      <td>1000001</td>\n",
       "      <td>P00087842</td>\n",
       "      <td>F</td>\n",
       "      <td>0-17</td>\n",
       "      <td>10</td>\n",
       "      <td>A</td>\n",
       "      <td>2</td>\n",
       "      <td>0</td>\n",
       "      <td>12</td>\n",
       "      <td>1422</td>\n",
       "    </tr>\n",
       "    <tr>\n",
       "      <th>3</th>\n",
       "      <td>1000001</td>\n",
       "      <td>P00085442</td>\n",
       "      <td>F</td>\n",
       "      <td>0-17</td>\n",
       "      <td>10</td>\n",
       "      <td>A</td>\n",
       "      <td>2</td>\n",
       "      <td>0</td>\n",
       "      <td>12</td>\n",
       "      <td>1057</td>\n",
       "    </tr>\n",
       "    <tr>\n",
       "      <th>4</th>\n",
       "      <td>1000002</td>\n",
       "      <td>P00285442</td>\n",
       "      <td>M</td>\n",
       "      <td>55+</td>\n",
       "      <td>16</td>\n",
       "      <td>C</td>\n",
       "      <td>4+</td>\n",
       "      <td>0</td>\n",
       "      <td>8</td>\n",
       "      <td>7969</td>\n",
       "    </tr>\n",
       "  </tbody>\n",
       "</table>\n",
       "</div>"
      ],
      "text/plain": [
       "   User_ID Product_ID Gender   Age  Occupation City_Category  \\\n",
       "0  1000001  P00069042      F  0-17          10             A   \n",
       "1  1000001  P00248942      F  0-17          10             A   \n",
       "2  1000001  P00087842      F  0-17          10             A   \n",
       "3  1000001  P00085442      F  0-17          10             A   \n",
       "4  1000002  P00285442      M   55+          16             C   \n",
       "\n",
       "  Stay_In_Current_City_Years  Marital_Status  Product_Category  Purchase  \n",
       "0                          2               0                 3      8370  \n",
       "1                          2               0                 1     15200  \n",
       "2                          2               0                12      1422  \n",
       "3                          2               0                12      1057  \n",
       "4                         4+               0                 8      7969  "
      ]
     },
     "execution_count": 2,
     "metadata": {},
     "output_type": "execute_result"
    }
   ],
   "source": [
    "#Importing Walmart dataset and reading the first 5 records\n",
    "df=pd.read_csv('walmart_data.csv')\n",
    "df.head()"
   ]
  },
  {
   "cell_type": "code",
   "execution_count": 3,
   "id": "847bae26",
   "metadata": {},
   "outputs": [
    {
     "data": {
      "text/plain": [
       "(550068, 10)"
      ]
     },
     "execution_count": 3,
     "metadata": {},
     "output_type": "execute_result"
    }
   ],
   "source": [
    "#Checking basics\n",
    "df.shape\n",
    "#We have a dataframe consisting of half a million observations and 10 features"
   ]
  },
  {
   "cell_type": "code",
   "execution_count": 4,
   "id": "1b815d25",
   "metadata": {},
   "outputs": [
    {
     "data": {
      "text/html": [
       "<div>\n",
       "<style scoped>\n",
       "    .dataframe tbody tr th:only-of-type {\n",
       "        vertical-align: middle;\n",
       "    }\n",
       "\n",
       "    .dataframe tbody tr th {\n",
       "        vertical-align: top;\n",
       "    }\n",
       "\n",
       "    .dataframe thead th {\n",
       "        text-align: right;\n",
       "    }\n",
       "</style>\n",
       "<table border=\"1\" class=\"dataframe\">\n",
       "  <thead>\n",
       "    <tr style=\"text-align: right;\">\n",
       "      <th></th>\n",
       "      <th>User_ID</th>\n",
       "      <th>Occupation</th>\n",
       "      <th>Marital_Status</th>\n",
       "      <th>Product_Category</th>\n",
       "      <th>Purchase</th>\n",
       "    </tr>\n",
       "  </thead>\n",
       "  <tbody>\n",
       "    <tr>\n",
       "      <th>count</th>\n",
       "      <td>5.500680e+05</td>\n",
       "      <td>550068.000000</td>\n",
       "      <td>550068.000000</td>\n",
       "      <td>550068.000000</td>\n",
       "      <td>550068.000000</td>\n",
       "    </tr>\n",
       "    <tr>\n",
       "      <th>mean</th>\n",
       "      <td>1.003029e+06</td>\n",
       "      <td>8.076707</td>\n",
       "      <td>0.409653</td>\n",
       "      <td>5.404270</td>\n",
       "      <td>9263.968713</td>\n",
       "    </tr>\n",
       "    <tr>\n",
       "      <th>std</th>\n",
       "      <td>1.727592e+03</td>\n",
       "      <td>6.522660</td>\n",
       "      <td>0.491770</td>\n",
       "      <td>3.936211</td>\n",
       "      <td>5023.065394</td>\n",
       "    </tr>\n",
       "    <tr>\n",
       "      <th>min</th>\n",
       "      <td>1.000001e+06</td>\n",
       "      <td>0.000000</td>\n",
       "      <td>0.000000</td>\n",
       "      <td>1.000000</td>\n",
       "      <td>12.000000</td>\n",
       "    </tr>\n",
       "    <tr>\n",
       "      <th>25%</th>\n",
       "      <td>1.001516e+06</td>\n",
       "      <td>2.000000</td>\n",
       "      <td>0.000000</td>\n",
       "      <td>1.000000</td>\n",
       "      <td>5823.000000</td>\n",
       "    </tr>\n",
       "    <tr>\n",
       "      <th>50%</th>\n",
       "      <td>1.003077e+06</td>\n",
       "      <td>7.000000</td>\n",
       "      <td>0.000000</td>\n",
       "      <td>5.000000</td>\n",
       "      <td>8047.000000</td>\n",
       "    </tr>\n",
       "    <tr>\n",
       "      <th>75%</th>\n",
       "      <td>1.004478e+06</td>\n",
       "      <td>14.000000</td>\n",
       "      <td>1.000000</td>\n",
       "      <td>8.000000</td>\n",
       "      <td>12054.000000</td>\n",
       "    </tr>\n",
       "    <tr>\n",
       "      <th>max</th>\n",
       "      <td>1.006040e+06</td>\n",
       "      <td>20.000000</td>\n",
       "      <td>1.000000</td>\n",
       "      <td>20.000000</td>\n",
       "      <td>23961.000000</td>\n",
       "    </tr>\n",
       "  </tbody>\n",
       "</table>\n",
       "</div>"
      ],
      "text/plain": [
       "            User_ID     Occupation  Marital_Status  Product_Category  \\\n",
       "count  5.500680e+05  550068.000000   550068.000000     550068.000000   \n",
       "mean   1.003029e+06       8.076707        0.409653          5.404270   \n",
       "std    1.727592e+03       6.522660        0.491770          3.936211   \n",
       "min    1.000001e+06       0.000000        0.000000          1.000000   \n",
       "25%    1.001516e+06       2.000000        0.000000          1.000000   \n",
       "50%    1.003077e+06       7.000000        0.000000          5.000000   \n",
       "75%    1.004478e+06      14.000000        1.000000          8.000000   \n",
       "max    1.006040e+06      20.000000        1.000000         20.000000   \n",
       "\n",
       "            Purchase  \n",
       "count  550068.000000  \n",
       "mean     9263.968713  \n",
       "std      5023.065394  \n",
       "min        12.000000  \n",
       "25%      5823.000000  \n",
       "50%      8047.000000  \n",
       "75%     12054.000000  \n",
       "max     23961.000000  "
      ]
     },
     "execution_count": 4,
     "metadata": {},
     "output_type": "execute_result"
    }
   ],
   "source": [
    "#Getting mean,count,std_dev etc.\n",
    "df.describe()"
   ]
  },
  {
   "cell_type": "code",
   "execution_count": 5,
   "id": "a1c273d3",
   "metadata": {},
   "outputs": [
    {
     "data": {
      "text/plain": [
       "User_ID                       0\n",
       "Product_ID                    0\n",
       "Gender                        0\n",
       "Age                           0\n",
       "Occupation                    0\n",
       "City_Category                 0\n",
       "Stay_In_Current_City_Years    0\n",
       "Marital_Status                0\n",
       "Product_Category              0\n",
       "Purchase                      0\n",
       "dtype: int64"
      ]
     },
     "execution_count": 5,
     "metadata": {},
     "output_type": "execute_result"
    }
   ],
   "source": [
    "df.isnull().sum()\n",
    "#there are no null values in any columns so data is relatively clean"
   ]
  },
  {
   "cell_type": "code",
   "execution_count": 6,
   "id": "c99f9481",
   "metadata": {},
   "outputs": [
    {
     "name": "stdout",
     "output_type": "stream",
     "text": [
      "Unique Ages -->  ['0-17' '55+' '26-35' '46-50' '51-55' '36-45' '18-25']\n"
     ]
    }
   ],
   "source": [
    "#User_ID,Product_ID,Gender,Age,Occupation,City_Category,Stay_In_Current_City_Years,Marital_Status,Product_Category,Purchase\n",
    "print('Unique Ages --> ',df.Age.unique())"
   ]
  },
  {
   "cell_type": "code",
   "execution_count": 7,
   "id": "205d46a8",
   "metadata": {},
   "outputs": [
    {
     "name": "stdout",
     "output_type": "stream",
     "text": [
      "Stays in current city --> ['2' '4+' '3' '1' '0']\n"
     ]
    }
   ],
   "source": [
    "print('Stays in current city -->',df.Stay_In_Current_City_Years.unique())"
   ]
  },
  {
   "cell_type": "code",
   "execution_count": 8,
   "id": "4cf740b4",
   "metadata": {},
   "outputs": [
    {
     "data": {
      "text/plain": [
       "array([10, 16, 15,  7, 20,  9,  1, 12, 17,  0,  3,  4, 11,  8, 19,  2, 18,\n",
       "        5, 14, 13,  6], dtype=int64)"
      ]
     },
     "execution_count": 8,
     "metadata": {},
     "output_type": "execute_result"
    }
   ],
   "source": [
    "df.Occupation.unique() #masked"
   ]
  },
  {
   "cell_type": "code",
   "execution_count": 9,
   "id": "ff97ad64",
   "metadata": {},
   "outputs": [
    {
     "data": {
      "image/png": "[encoded data removed]",
      "text/plain": [
       "<Figure size 432x288 with 1 Axes>"
      ]
     },
     "metadata": {
      "needs_background": "light"
     },
     "output_type": "display_data"
    }
   ],
   "source": [
    "#User_ID,Product_ID,Gender,Age,Occupation,City_Category,Stay_In_Current_City_Years,Marital_Status,Product_Category,Purchase\n",
    "sns.boxplot(x='Marital_Status', y='Purchase', data=df, hue='Gender')\n",
    "plt.show()"
   ]
  },
  {
   "cell_type": "code",
   "execution_count": 10,
   "id": "bb7ac52d",
   "metadata": {},
   "outputs": [
    {
     "data": {
      "image/png": "[encoded data removed]",
      "text/plain": [
       "<Figure size 576x360 with 1 Axes>"
      ]
     },
     "metadata": {
      "needs_background": "light"
     },
     "output_type": "display_data"
    }
   ],
   "source": [
    "fig, ax = plt.subplots(figsize=(8, 5))\n",
    "sns.boxplot(x='Age', y='Purchase', data=df, ax=ax)\n",
    "plt.show()"
   ]
  },
  {
   "cell_type": "code",
   "execution_count": 11,
   "id": "aca748be",
   "metadata": {},
   "outputs": [
    {
     "name": "stdout",
     "output_type": "stream",
     "text": [
      "No. of unique people who shopped -->  5891 --> M: 4225 F: 1666\n"
     ]
    }
   ],
   "source": [
    "#User_ID,Product_ID,Gender,Age,Occupation,City_Category,Stay_In_Current_City_Years,Marital_Status,Product_Category,Purchase\n",
    "print('No. of unique people who shopped --> ',len(df['User_ID'].unique()),'--> M:', len(df[df['Gender']=='M']['User_ID'].unique()),'F:', len(df[df['Gender']=='F']['User_ID'].unique()))"
   ]
  },
  {
   "cell_type": "code",
   "execution_count": 12,
   "id": "67f7b882",
   "metadata": {},
   "outputs": [
    {
     "data": {
      "text/plain": [
       "Gender  User_ID\n",
       "F       1000001     334093\n",
       "        1000006     379930\n",
       "        1000010    2169510\n",
       "        1000011     557023\n",
       "        1000016     150490\n",
       "                    ...   \n",
       "M       1006030     737361\n",
       "        1006032     517261\n",
       "        1006033     501843\n",
       "        1006034     197086\n",
       "        1006040    1653299\n",
       "Name: Purchase, Length: 5891, dtype: int64"
      ]
     },
     "execution_count": 12,
     "metadata": {},
     "output_type": "execute_result"
    }
   ],
   "source": [
    "df.groupby(by=['Gender', 'User_ID']).sum()['Purchase']"
   ]
  },
  {
   "cell_type": "code",
   "execution_count": 13,
   "id": "2f10e1cc",
   "metadata": {},
   "outputs": [
    {
     "data": {
      "text/plain": [
       "Gender\n",
       "F    8734.565765\n",
       "M    9437.526040\n",
       "Name: Purchase, dtype: float64"
      ]
     },
     "execution_count": 13,
     "metadata": {},
     "output_type": "execute_result"
    }
   ],
   "source": [
    "df.groupby(by=['Gender']).mean()['Purchase']"
   ]
  },
  {
   "cell_type": "code",
   "execution_count": 14,
   "id": "d2c8ab9d",
   "metadata": {},
   "outputs": [
    {
     "data": {
      "image/png": "[encoded data removed]",
      "text/plain": [
       "<Figure size 432x288 with 1 Axes>"
      ]
     },
     "metadata": {},
     "output_type": "display_data"
    }
   ],
   "source": [
    "data = df.groupby(by=['Gender']).mean()['Purchase']\n",
    "labels = ['Female', 'Male']\n",
    "colors = sns.color_palette('pastel')[0:2]\n",
    "plt.pie(data, labels = labels, colors = colors, autopct='%.0f%%')\n",
    "plt.show()"
   ]
  },
  {
   "cell_type": "code",
   "execution_count": 15,
   "id": "806f555f",
   "metadata": {},
   "outputs": [
    {
     "data": {
      "image/png": "[encoded data removed]",
      "text/plain": [
       "<Figure size 432x288 with 1 Axes>"
      ]
     },
     "metadata": {},
     "output_type": "display_data"
    }
   ],
   "source": [
    "data = df.groupby(by=['Gender']).count()['User_ID']\n",
    "labels = ['Female', 'Male']\n",
    "colors = sns.color_palette('pastel')[0:2]\n",
    "plt.pie(data, labels = labels, colors = colors, autopct='%.0f%%')\n",
    "plt.show()"
   ]
  },
  {
   "cell_type": "code",
   "execution_count": 29,
   "id": "b49a9b82",
   "metadata": {},
   "outputs": [
    {
     "name": "stdout",
     "output_type": "stream",
     "text": [
      "actual mean of female purchases --> 8734.565765155476\n",
      "actual mean of male purchases --> 9437.526040472265\n",
      "mean of 1000 sample(would keep on changing as sample would change) --> 8878.536\n"
     ]
    }
   ],
   "source": [
    "#Bootstrapping and CLT\n",
    "\n",
    "data = df.loc[:,['Gender','Purchase']]\n",
    "data_f = data[data['Gender']=='F']\n",
    "data_m = data[data['Gender']=='M']\n",
    "#print(data_f.shape[0],data_m.shape[0])\n",
    "print('actual mean of female purchases -->',np.mean(data_f['Purchase']))\n",
    "print('actual mean of male purchases -->',np.mean(data_m['Purchase']))\n",
    "\n",
    "bootstrapped_samples_f = np.random.choice(data_f['Purchase'], size=1000)\n",
    "bootstrapped_samples_f\n",
    "print('mean of 1000 sample(would keep on changing as sample would change) -->', np.mean(bootstrapped_samples_f))"
   ]
  },
  {
   "cell_type": "code",
   "execution_count": 30,
   "id": "5b47d0cd",
   "metadata": {},
   "outputs": [],
   "source": [
    "bootstrapped_samples_f_1 = []\n",
    "for x in range(10000):\n",
    "    bootstrapped_samples_f = np.random.choice(data_f['Purchase'], size=1000)\n",
    "    bootstrapped_samples_f_mean = np.mean(bootstrapped_samples_f)\n",
    "    bootstrapped_samples_f_1.append(bootstrapped_samples_f_mean)"
   ]
  },
  {
   "cell_type": "code",
   "execution_count": 31,
   "id": "de299ea9",
   "metadata": {},
   "outputs": [
    {
     "data": {
      "text/plain": [
       "<AxesSubplot:ylabel='Count'>"
      ]
     },
     "execution_count": 31,
     "metadata": {},
     "output_type": "execute_result"
    },
    {
     "data": {
      "image/png": "[encoded data removed]",
      "text/plain": [
       "<Figure size 432x288 with 1 Axes>"
      ]
     },
     "metadata": {
      "needs_background": "light"
     },
     "output_type": "display_data"
    }
   ],
   "source": [
    "sns.histplot(bootstrapped_samples_f_1, kde=True)"
   ]
  },
  {
   "cell_type": "code",
   "execution_count": 32,
   "id": "3b2a79c8",
   "metadata": {},
   "outputs": [
    {
     "name": "stdout",
     "output_type": "stream",
     "text": [
      "8734.4982734\n",
      "150.89333037497732\n"
     ]
    }
   ],
   "source": [
    "print(np.mean(bootstrapped_samples_f_1))\n",
    "print(np.std(bootstrapped_samples_f_1))"
   ]
  },
  {
   "cell_type": "code",
   "execution_count": 33,
   "id": "e68fe4e2",
   "metadata": {},
   "outputs": [
    {
     "name": "stdout",
     "output_type": "stream",
     "text": [
      "With 95% confidence we can say that the avg female purchase lies in between 8446.807550000001 and 9037.289025\n"
     ]
    }
   ],
   "source": [
    "left = np.percentile(bootstrapped_samples_f_1,2.5)\n",
    "right = np.percentile(bootstrapped_samples_f_1,97.5)\n",
    "print(f'With 95% confidence we can say that the avg female purchase lies in between {left} and {right}')"
   ]
  },
  {
   "cell_type": "code",
   "execution_count": 34,
   "id": "fb8d639b",
   "metadata": {},
   "outputs": [],
   "source": [
    "bootstrapped_samples_m_1 = []\n",
    "for x in range(10000):\n",
    "    bootstrapped_samples_m = np.random.choice(data_m['Purchase'], size=1000)\n",
    "    bootstrapped_samples_m_mean = np.mean(bootstrapped_samples_m)\n",
    "    bootstrapped_samples_m_1.append(bootstrapped_samples_m_mean)"
   ]
  },
  {
   "cell_type": "code",
   "execution_count": 35,
   "id": "aa7abcce",
   "metadata": {},
   "outputs": [
    {
     "data": {
      "text/plain": [
       "<AxesSubplot:ylabel='Count'>"
      ]
     },
     "execution_count": 35,
     "metadata": {},
     "output_type": "execute_result"
    },
    {
     "data": {
      "image/png": "[encoded data removed]",
      "text/plain": [
       "<Figure size 432x288 with 1 Axes>"
      ]
     },
     "metadata": {
      "needs_background": "light"
     },
     "output_type": "display_data"
    }
   ],
   "source": [
    "sns.histplot(bootstrapped_samples_m_1, kde=True)"
   ]
  },
  {
   "cell_type": "code",
   "execution_count": 36,
   "id": "303c926d",
   "metadata": {},
   "outputs": [
    {
     "name": "stdout",
     "output_type": "stream",
     "text": [
      "9434.5686802\n",
      "162.57381773326273\n"
     ]
    }
   ],
   "source": [
    "print(np.mean(bootstrapped_samples_m_1))\n",
    "print(np.std(bootstrapped_samples_m_1))"
   ]
  },
  {
   "cell_type": "code",
   "execution_count": 37,
   "id": "9291117d",
   "metadata": {},
   "outputs": [
    {
     "name": "stdout",
     "output_type": "stream",
     "text": [
      "With 95% confidence we can say that the avg male purchase lies in between 9117.80745 and 9756.59055\n"
     ]
    }
   ],
   "source": [
    "left = np.percentile(bootstrapped_samples_m_1,2.5)\n",
    "right = np.percentile(bootstrapped_samples_m_1,97.5)\n",
    "print(f'With 95% confidence we can say that the avg male purchase lies in between {left} and {right}')"
   ]
  },
  {
   "cell_type": "code",
   "execution_count": 38,
   "id": "f445aa2b",
   "metadata": {},
   "outputs": [],
   "source": [
    "#As we can clearly see these are both non-overlapping intervals for male and female"
   ]
  },
  {
   "cell_type": "code",
   "execution_count": 40,
   "id": "f5b3bcb7",
   "metadata": {},
   "outputs": [
    {
     "name": "stdout",
     "output_type": "stream",
     "text": [
      "actual mean of unmarried purchases --> 9265.907618921507\n",
      "actual mean of married couple purchases --> 9261.174574082374\n",
      "mean of 1000 sample(would keep on changing as sample would change) --> 9265.34\n"
     ]
    }
   ],
   "source": [
    "#Bootstrapping and CLT\n",
    "\n",
    "data = df.loc[:,['Marital_Status','Purchase']]\n",
    "data_m0 = data[data['Marital_Status']==0]\n",
    "data_m1 = data[data['Marital_Status']==1]\n",
    "#print(data_f.shape[0],data_m.shape[0])\n",
    "print('actual mean of unmarried purchases -->',np.mean(data_m0['Purchase']))\n",
    "print('actual mean of married couple purchases -->',np.mean(data_m1['Purchase']))\n",
    "\n",
    "bootstrapped_samples_m0 = np.random.choice(data_m0['Purchase'], size=1000)\n",
    "bootstrapped_samples_m0\n",
    "print('mean of 1000 sample(would keep on changing as sample would change) -->', np.mean(bootstrapped_samples_m0))"
   ]
  },
  {
   "cell_type": "code",
   "execution_count": 41,
   "id": "66726c95",
   "metadata": {},
   "outputs": [],
   "source": [
    "bootstrapped_samples_m0_1 = []\n",
    "for x in range(10000):\n",
    "    bootstrapped_samples_m0 = np.random.choice(data_m0['Purchase'], size=1000)\n",
    "    bootstrapped_samples_m0_mean = np.mean(bootstrapped_samples_m0)\n",
    "    bootstrapped_samples_m0_1.append(bootstrapped_samples_m0_mean)"
   ]
  },
  {
   "cell_type": "code",
   "execution_count": 42,
   "id": "c2fc64a1",
   "metadata": {},
   "outputs": [
    {
     "data": {
      "text/plain": [
       "<AxesSubplot:ylabel='Count'>"
      ]
     },
     "execution_count": 42,
     "metadata": {},
     "output_type": "execute_result"
    },
    {
     "data": {
      "image/png": "[encoded data removed]",
      "text/plain": [
       "<Figure size 432x288 with 1 Axes>"
      ]
     },
     "metadata": {
      "needs_background": "light"
     },
     "output_type": "display_data"
    }
   ],
   "source": [
    "sns.histplot(bootstrapped_samples_m0_1, kde=True)"
   ]
  },
  {
   "cell_type": "code",
   "execution_count": 43,
   "id": "1be00736",
   "metadata": {},
   "outputs": [
    {
     "name": "stdout",
     "output_type": "stream",
     "text": [
      "9266.4118685\n",
      "158.2635486836606\n"
     ]
    }
   ],
   "source": [
    "print(np.mean(bootstrapped_samples_m0_1))\n",
    "print(np.std(bootstrapped_samples_m0_1))"
   ]
  },
  {
   "cell_type": "code",
   "execution_count": 44,
   "id": "6f0270c1",
   "metadata": {},
   "outputs": [
    {
     "name": "stdout",
     "output_type": "stream",
     "text": [
      "With 95% confidence we can say that the avg unmarried people purchase lies in between 8953.926475 and 9575.759325\n"
     ]
    }
   ],
   "source": [
    "left = np.percentile(bootstrapped_samples_m0_1,2.5)\n",
    "right = np.percentile(bootstrapped_samples_m0_1,97.5)\n",
    "print(f'With 95% confidence we can say that the avg unmarried people purchase lies in between {left} and {right}')"
   ]
  },
  {
   "cell_type": "code",
   "execution_count": 46,
   "id": "ba9b178f",
   "metadata": {},
   "outputs": [],
   "source": [
    "bootstrapped_samples_m1_1 = []\n",
    "for x in range(10000):\n",
    "    bootstrapped_samples_m1 = np.random.choice(data_m1['Purchase'], size=1000)\n",
    "    bootstrapped_samples_m1_mean = np.mean(bootstrapped_samples_m1)\n",
    "    bootstrapped_samples_m1_1.append(bootstrapped_samples_m1_mean)"
   ]
  },
  {
   "cell_type": "code",
   "execution_count": 47,
   "id": "0b31801a",
   "metadata": {},
   "outputs": [
    {
     "data": {
      "text/plain": [
       "<AxesSubplot:ylabel='Count'>"
      ]
     },
     "execution_count": 47,
     "metadata": {},
     "output_type": "execute_result"
    },
    {
     "data": {
      "image/png": "[encoded data removed]",
      "text/plain": [
       "<Figure size 432x288 with 1 Axes>"
      ]
     },
     "metadata": {
      "needs_background": "light"
     },
     "output_type": "display_data"
    }
   ],
   "source": [
    "sns.histplot(bootstrapped_samples_m1_1, kde=True)"
   ]
  },
  {
   "cell_type": "code",
   "execution_count": 48,
   "id": "001c4b8a",
   "metadata": {},
   "outputs": [
    {
     "name": "stdout",
     "output_type": "stream",
     "text": [
      "9262.595206699998\n",
      "159.93820206930417\n"
     ]
    }
   ],
   "source": [
    "print(np.mean(bootstrapped_samples_m1_1))\n",
    "print(np.std(bootstrapped_samples_m1_1))"
   ]
  },
  {
   "cell_type": "code",
   "execution_count": 49,
   "id": "65b4dc3f",
   "metadata": {},
   "outputs": [
    {
     "name": "stdout",
     "output_type": "stream",
     "text": [
      "With 95% confidence we can say that the avg married couple purchase lies in between 8953.6237 and 9576.389425000001\n"
     ]
    }
   ],
   "source": [
    "left = np.percentile(bootstrapped_samples_m1_1,2.5)\n",
    "right = np.percentile(bootstrapped_samples_m1_1,97.5)\n",
    "print(f'With 95% confidence we can say that the avg married couple purchase lies in between {left} and {right}')"
   ]
  },
  {
   "cell_type": "code",
   "execution_count": 50,
   "id": "5a951cbf",
   "metadata": {},
   "outputs": [],
   "source": [
    "#So we can see, here the confidence intervals are overlapping which means there is no clear\n",
    "# demarcation that people whether married or unmarried would spend more"
   ]
  }
 ],
 "metadata": {
  "kernelspec": {
   "display_name": "Python 3 (ipykernel)",
   "language": "python",
   "name": "python3"
  },
  "language_info": {
   "codemirror_mode": {
    "name": "ipython",
    "version": 3
   },
   "file_extension": ".py",
   "mimetype": "text/x-python",
   "name": "python",
   "nbconvert_exporter": "python",
   "pygments_lexer": "ipython3",
   "version": "3.9.12"
  }
 },
 "nbformat": 4,
 "nbformat_minor": 5
}
