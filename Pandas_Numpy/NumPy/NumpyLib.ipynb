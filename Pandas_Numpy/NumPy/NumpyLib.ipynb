{
 "cells": [
  {
   "cell_type": "code",
   "execution_count": 2,
   "id": "71bab0e7",
   "metadata": {},
   "outputs": [],
   "source": [
    "import numpy as np"
   ]
  },
  {
   "cell_type": "code",
   "execution_count": 9,
   "id": "d62b998f",
   "metadata": {},
   "outputs": [
    {
     "data": {
      "text/plain": [
       "numpy.ndarray"
      ]
     },
     "execution_count": 9,
     "metadata": {},
     "output_type": "execute_result"
    }
   ],
   "source": [
    "type(np.array([1,2,3,4,5]))"
   ]
  },
  {
   "cell_type": "code",
   "execution_count": 11,
   "id": "07f1c73f",
   "metadata": {},
   "outputs": [],
   "source": [
    "a_np = np.array([1,2,3,4,5])"
   ]
  },
  {
   "cell_type": "code",
   "execution_count": 14,
   "id": "26ae7771",
   "metadata": {},
   "outputs": [
    {
     "data": {
      "text/plain": [
       "array([ 1,  4,  9, 16, 25], dtype=int32)"
      ]
     },
     "execution_count": 14,
     "metadata": {},
     "output_type": "execute_result"
    }
   ],
   "source": [
    "a_np**2 #cleaner syntax -> ele wise operation"
   ]
  },
  {
   "cell_type": "code",
   "execution_count": 15,
   "id": "b4e0381a",
   "metadata": {},
   "outputs": [
    {
     "data": {
      "text/plain": [
       "array([   1,    4,   27,  256, 3125], dtype=int32)"
      ]
     },
     "execution_count": 15,
     "metadata": {},
     "output_type": "execute_result"
    }
   ],
   "source": [
    "a_np**a_np"
   ]
  },
  {
   "cell_type": "code",
   "execution_count": 16,
   "id": "30b5038c",
   "metadata": {},
   "outputs": [],
   "source": [
    "#speedtesting"
   ]
  },
  {
   "cell_type": "code",
   "execution_count": 17,
   "id": "d3abede6",
   "metadata": {},
   "outputs": [
    {
     "data": {
      "text/plain": [
       "range(0, 1000000)"
      ]
     },
     "execution_count": 17,
     "metadata": {},
     "output_type": "execute_result"
    }
   ],
   "source": [
    "l = range(1000000)"
   ]
  },
  {
   "cell_type": "code",
   "execution_count": 26,
   "id": "b0e4a366",
   "metadata": {},
   "outputs": [
    {
     "name": "stdout",
     "output_type": "stream",
     "text": [
      "330 ms ± 7.89 ms per loop (mean ± std. dev. of 7 runs, 1 loop each)\n"
     ]
    }
   ],
   "source": [
    "a = [i for i in range(1000000)]\n",
    "%timeit [i**2 for i in a]"
   ]
  },
  {
   "cell_type": "code",
   "execution_count": 27,
   "id": "5cb359bb",
   "metadata": {},
   "outputs": [],
   "source": [
    "l_np = np.array(range(1000000))"
   ]
  },
  {
   "cell_type": "code",
   "execution_count": 28,
   "id": "4e581f5f",
   "metadata": {},
   "outputs": [
    {
     "name": "stdout",
     "output_type": "stream",
     "text": [
      "2.48 ms ± 66.1 µs per loop (mean ± std. dev. of 7 runs, 100 loops each)\n"
     ]
    }
   ],
   "source": [
    "%timeit l_np**2"
   ]
  },
  {
   "cell_type": "code",
   "execution_count": 54,
   "id": "d199cad9",
   "metadata": {},
   "outputs": [
    {
     "data": {
      "text/plain": [
       "numpy.ndarray"
      ]
     },
     "execution_count": 54,
     "metadata": {},
     "output_type": "execute_result"
    }
   ],
   "source": [
    "td_arr = np.array([[1,2,3],[1,2,3],[2,3,4],[3,4,5]])\n",
    "type(l_np)"
   ]
  },
  {
   "cell_type": "code",
   "execution_count": 55,
   "id": "f4d0729d",
   "metadata": {},
   "outputs": [
    {
     "data": {
      "text/plain": [
       "1"
      ]
     },
     "execution_count": 55,
     "metadata": {},
     "output_type": "execute_result"
    }
   ],
   "source": [
    "l_np.ndim #because its a 1D arr"
   ]
  },
  {
   "cell_type": "code",
   "execution_count": 56,
   "id": "ecac7ad0",
   "metadata": {},
   "outputs": [
    {
     "data": {
      "text/plain": [
       "2"
      ]
     },
     "execution_count": 56,
     "metadata": {},
     "output_type": "execute_result"
    }
   ],
   "source": [
    "td_arr.ndim #because its a 2D arr"
   ]
  },
  {
   "cell_type": "code",
   "execution_count": 67,
   "id": "33b2c5aa",
   "metadata": {},
   "outputs": [
    {
     "data": {
      "text/plain": [
       "(4, 3)"
      ]
     },
     "execution_count": 67,
     "metadata": {},
     "output_type": "execute_result"
    }
   ],
   "source": [
    "td_arr.shape\n",
    "# 1st dimension contain 4 elements \n",
    "# 2nd dimension contains 3 elements\n",
    "# So dimensions are counted from outter to inner layer"
   ]
  },
  {
   "cell_type": "code",
   "execution_count": 68,
   "id": "e78554db",
   "metadata": {},
   "outputs": [],
   "source": [
    "arr2 = np.array([[[1,2,3],[4,5,6],[7,8,9]],[[1,1,1],[2,2,2],[3,3,3]]])\n"
   ]
  },
  {
   "cell_type": "code",
   "execution_count": 69,
   "id": "ba433214",
   "metadata": {},
   "outputs": [
    {
     "data": {
      "text/plain": [
       "(2, 3, 3)"
      ]
     },
     "execution_count": 69,
     "metadata": {},
     "output_type": "execute_result"
    }
   ],
   "source": [
    "arr2.shape"
   ]
  },
  {
   "cell_type": "code",
   "execution_count": 71,
   "id": "7bb552bb",
   "metadata": {},
   "outputs": [
    {
     "data": {
      "text/plain": [
       "[1, 3, 5, 7, 9]"
      ]
     },
     "execution_count": 71,
     "metadata": {},
     "output_type": "execute_result"
    }
   ],
   "source": [
    "#you knw range...but ever heard of arange?\n",
    "list(range(1,10,2))"
   ]
  },
  {
   "cell_type": "code",
   "execution_count": 72,
   "id": "ac6f99f4",
   "metadata": {},
   "outputs": [
    {
     "data": {
      "text/plain": [
       "array([1, 3, 5, 7, 9])"
      ]
     },
     "execution_count": 72,
     "metadata": {},
     "output_type": "execute_result"
    }
   ],
   "source": [
    "np.arange(1,10,2)"
   ]
  },
  {
   "cell_type": "code",
   "execution_count": 75,
   "id": "f700b607",
   "metadata": {},
   "outputs": [
    {
     "data": {
      "text/plain": [
       "array([1. , 1.5, 2. , 2.5, 3. , 3.5, 4. , 4.5])"
      ]
     },
     "execution_count": 75,
     "metadata": {},
     "output_type": "execute_result"
    }
   ],
   "source": [
    "# incrementing by decimal..not possible in range\n",
    "np.arange(1,5,0.5)"
   ]
  },
  {
   "cell_type": "code",
   "execution_count": 77,
   "id": "1a07a424",
   "metadata": {},
   "outputs": [
    {
     "data": {
      "text/plain": [
       "array([1. , 2. , 3. , 4.5])"
      ]
     },
     "execution_count": 77,
     "metadata": {},
     "output_type": "execute_result"
    }
   ],
   "source": [
    "#arr are homogenous & \n",
    "#numpy will make it if its not\n",
    "\n",
    "np.array([1,2,3,4.5])"
   ]
  },
  {
   "cell_type": "code",
   "execution_count": 78,
   "id": "e297cb31",
   "metadata": {},
   "outputs": [],
   "source": [
    "#because there's no loss of info"
   ]
  },
  {
   "cell_type": "code",
   "execution_count": 81,
   "id": "737aadcf",
   "metadata": {},
   "outputs": [
    {
     "data": {
      "text/plain": [
       "array(['1', '2', '3', 'A'], dtype='<U11')"
      ]
     },
     "execution_count": 81,
     "metadata": {},
     "output_type": "execute_result"
    }
   ],
   "source": [
    "np.array([1,2,3,'A'])"
   ]
  },
  {
   "cell_type": "code",
   "execution_count": 96,
   "id": "43475cac",
   "metadata": {},
   "outputs": [],
   "source": [
    "s_arr = np.array([1,2,3,4,5,6,7,8], dtype='float')"
   ]
  },
  {
   "cell_type": "code",
   "execution_count": 97,
   "id": "b609c525",
   "metadata": {},
   "outputs": [
    {
     "data": {
      "text/plain": [
       "array([2., 3., 4., 5.])"
      ]
     },
     "execution_count": 97,
     "metadata": {},
     "output_type": "execute_result"
    }
   ],
   "source": [
    "#lets see slicing & Indexing\n",
    "s_arr[1:5]"
   ]
  },
  {
   "cell_type": "code",
   "execution_count": 98,
   "id": "cd3452fb",
   "metadata": {},
   "outputs": [
    {
     "data": {
      "text/plain": [
       "array([2., 5., 2.])"
      ]
     },
     "execution_count": 98,
     "metadata": {},
     "output_type": "execute_result"
    }
   ],
   "source": [
    "#multiple indexing\n",
    "s_arr[[1,4,1]]"
   ]
  },
  {
   "cell_type": "code",
   "execution_count": 102,
   "id": "e3e98634",
   "metadata": {},
   "outputs": [
    {
     "data": {
      "text/plain": [
       "array([], dtype=float64)"
      ]
     },
     "execution_count": 102,
     "metadata": {},
     "output_type": "execute_result"
    }
   ],
   "source": [
    "s_arr[-5:-1:-1] #going frm 4 to 8 in rev..not possible so empty "
   ]
  },
  {
   "cell_type": "code",
   "execution_count": 109,
   "id": "2b5bffb5",
   "metadata": {},
   "outputs": [
    {
     "data": {
      "text/plain": [
       "[]"
      ]
     },
     "execution_count": 109,
     "metadata": {},
     "output_type": "execute_result"
    }
   ],
   "source": [
    "a=list(range(1,11)) #same in case of list btw\n",
    "a[-5:-1:-1]"
   ]
  },
  {
   "cell_type": "code",
   "execution_count": 111,
   "id": "36eb7c93",
   "metadata": {},
   "outputs": [
    {
     "data": {
      "text/plain": [
       "array([  1.,   2.,   3.,   4.,   5., 100., 100., 100.])"
      ]
     },
     "execution_count": 111,
     "metadata": {},
     "output_type": "execute_result"
    }
   ],
   "source": [
    "#updating values\n",
    "s_arr[5:] = 100\n",
    "s_arr"
   ]
  },
  {
   "cell_type": "code",
   "execution_count": 113,
   "id": "b9843550",
   "metadata": {},
   "outputs": [],
   "source": [
    "#Fancy indexing (VERY IMP)"
   ]
  },
  {
   "cell_type": "code",
   "execution_count": 115,
   "id": "821bc082",
   "metadata": {},
   "outputs": [
    {
     "data": {
      "text/plain": [
       "array([ 0,  1,  2,  3,  4,  5,  6,  7,  8,  9, 10, 11])"
      ]
     },
     "execution_count": 115,
     "metadata": {},
     "output_type": "execute_result"
    }
   ],
   "source": [
    "f_arr = np.arange(12)\n",
    "f_arr"
   ]
  },
  {
   "cell_type": "code",
   "execution_count": 118,
   "id": "5ec866eb",
   "metadata": {},
   "outputs": [
    {
     "data": {
      "text/plain": [
       "array([ True,  True,  True,  True,  True, False, False, False, False,\n",
       "       False, False, False])"
      ]
     },
     "execution_count": 118,
     "metadata": {},
     "output_type": "execute_result"
    }
   ],
   "source": [
    "f_arr < 5 #bool_mask"
   ]
  },
  {
   "cell_type": "code",
   "execution_count": 120,
   "id": "4a18f779",
   "metadata": {},
   "outputs": [
    {
     "data": {
      "text/plain": [
       "array([0, 1, 2, 3, 4])"
      ]
     },
     "execution_count": 120,
     "metadata": {},
     "output_type": "execute_result"
    }
   ],
   "source": [
    "f_arr[f_arr < 5] #all true values are returned"
   ]
  },
  {
   "cell_type": "code",
   "execution_count": 129,
   "id": "e73e1f5b",
   "metadata": {},
   "outputs": [
    {
     "data": {
      "text/plain": [
       "array([ 0,  2,  4,  6,  8, 10])"
      ]
     },
     "execution_count": 129,
     "metadata": {},
     "output_type": "execute_result"
    }
   ],
   "source": [
    "f_arr[f_arr % 2 == 0] #see how clean d syntax is.."
   ]
  },
  {
   "cell_type": "code",
   "execution_count": 130,
   "id": "9dbddaa7",
   "metadata": {},
   "outputs": [
    {
     "data": {
      "text/plain": [
       "array([ 0,  2,  4,  5,  6,  8, 10])"
      ]
     },
     "execution_count": 130,
     "metadata": {},
     "output_type": "execute_result"
    }
   ],
   "source": [
    "#but wht if we hv multiple conditions?..\n",
    "#first separate it then use bitwise operator because both the\n",
    "#conditions are returning their resp. bool arrs\n",
    "#so u cannot or them directly so rather use bitwise\n",
    "\n",
    "f_arr[(f_arr % 2 == 0) | (f_arr % 5 == 0)]"
   ]
  },
  {
   "cell_type": "code",
   "execution_count": 134,
   "id": "00c5c99d",
   "metadata": {},
   "outputs": [
    {
     "data": {
      "text/plain": [
       "array([3, 4, 5])"
      ]
     },
     "execution_count": 134,
     "metadata": {},
     "output_type": "execute_result"
    }
   ],
   "source": [
    "#vectorisation\n",
    "np.arange(3) + 3"
   ]
  },
  {
   "cell_type": "code",
   "execution_count": 141,
   "id": "b2aa239b",
   "metadata": {},
   "outputs": [
    {
     "data": {
      "text/plain": [
       "array([ 7,  9, 11, 13, 15])"
      ]
     },
     "execution_count": 141,
     "metadata": {},
     "output_type": "execute_result"
    }
   ],
   "source": [
    "#adding arr 5 elements each\n",
    "a = np.arange(1,6)\n",
    "b = np.arange(6,11)\n",
    "a + b"
   ]
  },
  {
   "cell_type": "code",
   "execution_count": 140,
   "id": "97f6ffa6",
   "metadata": {},
   "outputs": [
    {
     "ename": "ValueError",
     "evalue": "operands could not be broadcast together with shapes (5,) (9,) ",
     "output_type": "error",
     "traceback": [
      "\u001b[1;31m---------------------------------------------------------------------------\u001b[0m",
      "\u001b[1;31mValueError\u001b[0m                                Traceback (most recent call last)",
      "Input \u001b[1;32mIn [140]\u001b[0m, in \u001b[0;36m<cell line: 4>\u001b[1;34m()\u001b[0m\n\u001b[0;32m      2\u001b[0m a \u001b[38;5;241m=\u001b[39m np\u001b[38;5;241m.\u001b[39marange(\u001b[38;5;241m1\u001b[39m,\u001b[38;5;241m6\u001b[39m)\n\u001b[0;32m      3\u001b[0m b \u001b[38;5;241m=\u001b[39m np\u001b[38;5;241m.\u001b[39marange(\u001b[38;5;241m6\u001b[39m,\u001b[38;5;241m15\u001b[39m)\n\u001b[1;32m----> 4\u001b[0m \u001b[43ma\u001b[49m\u001b[43m \u001b[49m\u001b[38;5;241;43m+\u001b[39;49m\u001b[43m \u001b[49m\u001b[43mb\u001b[49m\n",
      "\u001b[1;31mValueError\u001b[0m: operands could not be broadcast together with shapes (5,) (9,) "
     ]
    }
   ],
   "source": [
    "#error if lengths are unequal\n",
    "a = np.arange(1,6)\n",
    "b = np.arange(6,15)\n",
    "a + b"
   ]
  },
  {
   "cell_type": "code",
   "execution_count": 142,
   "id": "54dba36c",
   "metadata": {},
   "outputs": [
    {
     "data": {
      "text/plain": [
       "array([ 6,  7,  8,  9, 10])"
      ]
     },
     "execution_count": 142,
     "metadata": {},
     "output_type": "execute_result"
    }
   ],
   "source": [
    "b"
   ]
  },
  {
   "cell_type": "code",
   "execution_count": 143,
   "id": "e084f370",
   "metadata": {},
   "outputs": [
    {
     "data": {
      "text/plain": [
       "8.0"
      ]
     },
     "execution_count": 143,
     "metadata": {},
     "output_type": "execute_result"
    }
   ],
   "source": [
    "np.mean(b)"
   ]
  },
  {
   "cell_type": "code",
   "execution_count": 144,
   "id": "f9a67f54",
   "metadata": {},
   "outputs": [
    {
     "data": {
      "text/plain": [
       "6"
      ]
     },
     "execution_count": 144,
     "metadata": {},
     "output_type": "execute_result"
    }
   ],
   "source": [
    "np.min(b)"
   ]
  },
  {
   "cell_type": "code",
   "execution_count": 145,
   "id": "19e775b5",
   "metadata": {},
   "outputs": [
    {
     "data": {
      "text/plain": [
       "10"
      ]
     },
     "execution_count": 145,
     "metadata": {},
     "output_type": "execute_result"
    }
   ],
   "source": [
    "np.max(b)"
   ]
  },
  {
   "cell_type": "code",
   "execution_count": 146,
   "id": "6e75f0c9",
   "metadata": {},
   "outputs": [
    {
     "data": {
      "text/plain": [
       "40"
      ]
     },
     "execution_count": 146,
     "metadata": {},
     "output_type": "execute_result"
    }
   ],
   "source": [
    "np.sum(b)"
   ]
  },
  {
   "cell_type": "code",
   "execution_count": 149,
   "id": "d7b999de",
   "metadata": {},
   "outputs": [
    {
     "data": {
      "text/plain": [
       "array([16, 17, 18, 19, 20])"
      ]
     },
     "execution_count": 149,
     "metadata": {},
     "output_type": "execute_result"
    }
   ],
   "source": [
    "np.add(b,10)"
   ]
  },
  {
   "cell_type": "code",
   "execution_count": 3,
   "id": "8df3b763",
   "metadata": {},
   "outputs": [],
   "source": [
    "A = np.array([2, 0, 1, 9, 1, 1, 1, 0, 3, 5])\n"
   ]
  },
  {
   "cell_type": "code",
   "execution_count": 4,
   "id": "6ee3a45f",
   "metadata": {},
   "outputs": [
    {
     "data": {
      "text/plain": [
       "[3, 1, 2, 10, 2, 2, 2, 1, 4, 6]"
      ]
     },
     "execution_count": 4,
     "metadata": {},
     "output_type": "execute_result"
    }
   ],
   "source": [
    "list(map(lambda x:x+1, A))"
   ]
  },
  {
   "cell_type": "code",
   "execution_count": 5,
   "id": "fef8ea65",
   "metadata": {},
   "outputs": [
    {
     "data": {
      "text/plain": [
       "array([ 3,  1,  2, 10,  2,  2,  2,  1,  4,  6])"
      ]
     },
     "execution_count": 5,
     "metadata": {},
     "output_type": "execute_result"
    }
   ],
   "source": [
    "A + 1"
   ]
  },
  {
   "cell_type": "code",
   "execution_count": 7,
   "id": "b44f0c9a",
   "metadata": {},
   "outputs": [
    {
     "data": {
      "text/plain": [
       "[3, 1, 2, 10, 2, 2, 2, 1, 4, 6]"
      ]
     },
     "execution_count": 7,
     "metadata": {},
     "output_type": "execute_result"
    }
   ],
   "source": [
    "[x+1 for x in A]"
   ]
  },
  {
   "cell_type": "code",
   "execution_count": 14,
   "id": "dc4f26f5",
   "metadata": {},
   "outputs": [],
   "source": [
    "x = np.array([-5, 9 , 20 , 25, -3, 5, 16, 10])\n"
   ]
  },
  {
   "cell_type": "code",
   "execution_count": 15,
   "id": "ec185f74",
   "metadata": {},
   "outputs": [],
   "source": [
    "x[(x >= -5) & (x <= 15)] *= -1 "
   ]
  },
  {
   "cell_type": "code",
   "execution_count": 16,
   "id": "68c8edb2",
   "metadata": {},
   "outputs": [
    {
     "data": {
      "text/plain": [
       "array([  5,  -9,  20,  25,   3,  -5,  16, -10])"
      ]
     },
     "execution_count": 16,
     "metadata": {},
     "output_type": "execute_result"
    }
   ],
   "source": [
    "x"
   ]
  },
  {
   "cell_type": "code",
   "execution_count": null,
   "id": "eb4c8fa1",
   "metadata": {},
   "outputs": [],
   "source": []
  }
 ],
 "metadata": {
  "kernelspec": {
   "display_name": "Python 3 (ipykernel)",
   "language": "python",
   "name": "python3"
  },
  "language_info": {
   "codemirror_mode": {
    "name": "ipython",
    "version": 3
   },
   "file_extension": ".py",
   "mimetype": "text/x-python",
   "name": "python",
   "nbconvert_exporter": "python",
   "pygments_lexer": "ipython3",
   "version": "3.9.12"
  }
 },
 "nbformat": 4,
 "nbformat_minor": 5
}
