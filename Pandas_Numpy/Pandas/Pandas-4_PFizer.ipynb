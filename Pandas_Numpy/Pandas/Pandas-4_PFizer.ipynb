{
 "cells": [
  {
   "cell_type": "code",
   "execution_count": 1,
   "id": "41c8d945",
   "metadata": {},
   "outputs": [],
   "source": [
    "import pandas as pd\n",
    "import numpy as np"
   ]
  },
  {
   "cell_type": "code",
   "execution_count": 2,
   "id": "bdc7058b",
   "metadata": {},
   "outputs": [
    {
     "name": "stderr",
     "output_type": "stream",
     "text": [
      "Downloading...\n",
      "From: https://drive.google.com/uc?id=173A59xh2mnpmljCCB9bhC4C5eP2IS6qZ\n",
      "To: C:\\Users\\Lunarblade\\DSML\\Pandas\\Pfizer_1.csv\n",
      "\n",
      "  0%|          | 0.00/1.51k [00:00<?, ?B/s]\n",
      "100%|##########| 1.51k/1.51k [00:00<?, ?B/s]\n"
     ]
    }
   ],
   "source": [
    "!gdown 173A59xh2mnpmljCCB9bhC4C5eP2IS6qZ\n"
   ]
  },
  {
   "cell_type": "code",
   "execution_count": 3,
   "id": "f74eb641",
   "metadata": {},
   "outputs": [],
   "source": [
    "data = pd.read_csv('Pfizer_1.csv')"
   ]
  },
  {
   "cell_type": "code",
   "execution_count": 5,
   "id": "ab015dd4",
   "metadata": {},
   "outputs": [
    {
     "name": "stdout",
     "output_type": "stream",
     "text": [
      "<class 'pandas.core.frame.DataFrame'>\n",
      "RangeIndex: 18 entries, 0 to 17\n",
      "Data columns (total 15 columns):\n",
      " #   Column     Non-Null Count  Dtype  \n",
      "---  ------     --------------  -----  \n",
      " 0   Date       18 non-null     object \n",
      " 1   Drug_Name  18 non-null     object \n",
      " 2   Parameter  18 non-null     object \n",
      " 3   1:30:00    16 non-null     float64\n",
      " 4   2:30:00    16 non-null     float64\n",
      " 5   3:30:00    12 non-null     float64\n",
      " 6   4:30:00    14 non-null     float64\n",
      " 7   5:30:00    16 non-null     float64\n",
      " 8   6:30:00    18 non-null     int64  \n",
      " 9   7:30:00    16 non-null     float64\n",
      " 10  8:30:00    14 non-null     float64\n",
      " 11  9:30:00    16 non-null     float64\n",
      " 12  10:30:00   18 non-null     int64  \n",
      " 13  11:30:00   16 non-null     float64\n",
      " 14  12:30:00   18 non-null     int64  \n",
      "dtypes: float64(9), int64(3), object(3)\n",
      "memory usage: 2.2+ KB\n"
     ]
    }
   ],
   "source": [
    "data.info()"
   ]
  },
  {
   "cell_type": "code",
   "execution_count": 8,
   "id": "f4615d78",
   "metadata": {},
   "outputs": [
    {
     "data": {
      "text/html": [
       "<div>\n",
       "<style scoped>\n",
       "    .dataframe tbody tr th:only-of-type {\n",
       "        vertical-align: middle;\n",
       "    }\n",
       "\n",
       "    .dataframe tbody tr th {\n",
       "        vertical-align: top;\n",
       "    }\n",
       "\n",
       "    .dataframe thead th {\n",
       "        text-align: right;\n",
       "    }\n",
       "</style>\n",
       "<table border=\"1\" class=\"dataframe\">\n",
       "  <thead>\n",
       "    <tr style=\"text-align: right;\">\n",
       "      <th></th>\n",
       "      <th>Date</th>\n",
       "      <th>Drug_Name</th>\n",
       "      <th>Parameter</th>\n",
       "      <th>1:30:00</th>\n",
       "      <th>2:30:00</th>\n",
       "      <th>3:30:00</th>\n",
       "      <th>4:30:00</th>\n",
       "      <th>5:30:00</th>\n",
       "      <th>6:30:00</th>\n",
       "      <th>7:30:00</th>\n",
       "      <th>8:30:00</th>\n",
       "      <th>9:30:00</th>\n",
       "      <th>10:30:00</th>\n",
       "      <th>11:30:00</th>\n",
       "      <th>12:30:00</th>\n",
       "    </tr>\n",
       "  </thead>\n",
       "  <tbody>\n",
       "    <tr>\n",
       "      <th>0</th>\n",
       "      <td>15-10-2020</td>\n",
       "      <td>diltiazem hydrochloride</td>\n",
       "      <td>Temperature</td>\n",
       "      <td>23.0</td>\n",
       "      <td>22.0</td>\n",
       "      <td>NaN</td>\n",
       "      <td>21.0</td>\n",
       "      <td>21.0</td>\n",
       "      <td>22</td>\n",
       "      <td>23.0</td>\n",
       "      <td>21.0</td>\n",
       "      <td>22.0</td>\n",
       "      <td>20</td>\n",
       "      <td>20.0</td>\n",
       "      <td>21</td>\n",
       "    </tr>\n",
       "    <tr>\n",
       "      <th>1</th>\n",
       "      <td>15-10-2020</td>\n",
       "      <td>diltiazem hydrochloride</td>\n",
       "      <td>Pressure</td>\n",
       "      <td>12.0</td>\n",
       "      <td>13.0</td>\n",
       "      <td>NaN</td>\n",
       "      <td>11.0</td>\n",
       "      <td>13.0</td>\n",
       "      <td>14</td>\n",
       "      <td>16.0</td>\n",
       "      <td>16.0</td>\n",
       "      <td>24.0</td>\n",
       "      <td>18</td>\n",
       "      <td>19.0</td>\n",
       "      <td>20</td>\n",
       "    </tr>\n",
       "    <tr>\n",
       "      <th>2</th>\n",
       "      <td>15-10-2020</td>\n",
       "      <td>docetaxel injection</td>\n",
       "      <td>Temperature</td>\n",
       "      <td>NaN</td>\n",
       "      <td>17.0</td>\n",
       "      <td>18.0</td>\n",
       "      <td>NaN</td>\n",
       "      <td>17.0</td>\n",
       "      <td>18</td>\n",
       "      <td>NaN</td>\n",
       "      <td>NaN</td>\n",
       "      <td>23.0</td>\n",
       "      <td>23</td>\n",
       "      <td>25.0</td>\n",
       "      <td>25</td>\n",
       "    </tr>\n",
       "    <tr>\n",
       "      <th>3</th>\n",
       "      <td>15-10-2020</td>\n",
       "      <td>docetaxel injection</td>\n",
       "      <td>Pressure</td>\n",
       "      <td>NaN</td>\n",
       "      <td>22.0</td>\n",
       "      <td>22.0</td>\n",
       "      <td>NaN</td>\n",
       "      <td>22.0</td>\n",
       "      <td>23</td>\n",
       "      <td>NaN</td>\n",
       "      <td>NaN</td>\n",
       "      <td>27.0</td>\n",
       "      <td>26</td>\n",
       "      <td>29.0</td>\n",
       "      <td>28</td>\n",
       "    </tr>\n",
       "  </tbody>\n",
       "</table>\n",
       "</div>"
      ],
      "text/plain": [
       "         Date                Drug_Name    Parameter  1:30:00  2:30:00  \\\n",
       "0  15-10-2020  diltiazem hydrochloride  Temperature     23.0     22.0   \n",
       "1  15-10-2020  diltiazem hydrochloride     Pressure     12.0     13.0   \n",
       "2  15-10-2020      docetaxel injection  Temperature      NaN     17.0   \n",
       "3  15-10-2020      docetaxel injection     Pressure      NaN     22.0   \n",
       "\n",
       "   3:30:00  4:30:00  5:30:00  6:30:00  7:30:00  8:30:00  9:30:00  10:30:00  \\\n",
       "0      NaN     21.0     21.0       22     23.0     21.0     22.0        20   \n",
       "1      NaN     11.0     13.0       14     16.0     16.0     24.0        18   \n",
       "2     18.0      NaN     17.0       18      NaN      NaN     23.0        23   \n",
       "3     22.0      NaN     22.0       23      NaN      NaN     27.0        26   \n",
       "\n",
       "   11:30:00  12:30:00  \n",
       "0      20.0        21  \n",
       "1      19.0        20  \n",
       "2      25.0        25  \n",
       "3      29.0        28  "
      ]
     },
     "execution_count": 8,
     "metadata": {},
     "output_type": "execute_result"
    }
   ],
   "source": [
    "data.head(4)"
   ]
  }
 ],
 "metadata": {
  "kernelspec": {
   "display_name": "Python 3 (ipykernel)",
   "language": "python",
   "name": "python3"
  },
  "language_info": {
   "codemirror_mode": {
    "name": "ipython",
    "version": 3
   },
   "file_extension": ".py",
   "mimetype": "text/x-python",
   "name": "python",
   "nbconvert_exporter": "python",
   "pygments_lexer": "ipython3",
   "version": "3.9.12"
  }
 },
 "nbformat": 4,
 "nbformat_minor": 5
}
