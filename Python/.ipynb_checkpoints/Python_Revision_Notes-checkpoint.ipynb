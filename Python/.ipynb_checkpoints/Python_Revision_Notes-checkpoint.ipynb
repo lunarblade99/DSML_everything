{
 "cells": [
  {
   "cell_type": "markdown",
   "id": "1eac7a8b",
   "metadata": {},
   "source": [
    "Compiler and Interpreter\n",
    "\n",
    "Compiler -> source_code --> compiler --> object_code(machine_code) --> output\n",
    "Interpreter -> source_code --> pre-processing --> intermediate_code --> interpreter --> output\n",
    "\n",
    "compilers for c & c++ -> G++_&_GCC(GNU Compiler Collections)\n",
    "compiler for java -> Java Programming Language Compiler (javac)\n",
    "The Python interpreter is CPython and is written in the C programming language\n",
    "Earlier JS engines were interpreters, but all relevant modern engines use just-in-time compilation for improved performance"
   ]
  },
  {
   "cell_type": "markdown",
   "id": "525f51d3",
   "metadata": {},
   "source": [
    "First-class citizens are entities that enable support for all the operations facilitating other fellow entities.\n",
    "These entities are often used : passing an argument , returning a value, value assignment\n",
    "e.g. Integers, Floating type, Complex Numbers, Strings\n",
    "\n",
    "Python has a feature that is unique among popular programming languages- its functions are first-class objects.\n",
    "\n",
    "You can assign them to variables, store them in data structures, and pass them as arguments to other functions, and even return them as values from other functions."
   ]
  },
  {
   "cell_type": "code",
   "execution_count": null,
   "id": "cd8e4d53-db7c-4050-a499-bf50438a8a50",
   "metadata": {},
   "outputs": [],
   "source": []
  }
 ],
 "metadata": {
  "kernelspec": {
   "display_name": "Python 3 (ipykernel)",
   "language": "python",
   "name": "python3"
  },
  "language_info": {
   "codemirror_mode": {
    "name": "ipython",
    "version": 3
   },
   "file_extension": ".py",
   "mimetype": "text/x-python",
   "name": "python",
   "nbconvert_exporter": "python",
   "pygments_lexer": "ipython3",
   "version": "3.9.12"
  }
 },
 "nbformat": 4,
 "nbformat_minor": 5
}
